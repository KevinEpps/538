{
  "nbformat": 4,
  "nbformat_minor": 0,
  "metadata": {
    "colab": {
      "provenance": [],
      "authorship_tag": "ABX9TyPRre1vGfeX1+4FXsqihnCu"
    },
    "kernelspec": {
      "name": "python3",
      "display_name": "Python 3"
    },
    "language_info": {
      "name": "python"
    }
  },
  "cells": [
    {
      "cell_type": "code",
      "source": [
        "import numpy as np\n",
        "import xarray as xr\n",
        "import pandas as pd\n",
        "from time import time\n",
        "from tqdm import tqdm\n",
        "import netCDF4\n",
        "import numpy as np\n",
        "import matplotlib.pyplot as plt\n",
        "from datetime import datetime, timedelta\n",
        "import pytz\n",
        "\n",
        "stn = input(\"Enter the station ID: Oceanside = 045, Red Beach = 264 \")\n",
        "\n",
        "# set the date and time range for the latest 12 hour period\n",
        "end_time_utc = datetime.utcnow()\n",
        "start_time_utc = end_time_utc - timedelta(hours=12)\n",
        "\n",
        "# convert UTC time to PST time\n",
        "utc_tz = pytz.timezone('UTC')\n",
        "pst_tz = pytz.timezone('US/Pacific')\n",
        "end_time = utc_tz.localize(end_time_utc).astimezone(pst_tz)\n",
        "start_time = utc_tz.localize(start_time_utc).astimezone(pst_tz)\n",
        "\n",
        "# set UTC to PST offset\n",
        "utc_offset = (pst_tz.utcoffset(datetime.now()) - utc_tz.utcoffset(datetime.now())).seconds / 3600\n",
        "\n",
        "# CDIP Realtime Dataset URL\n",
        "address1 = 'http://thredds.cdip.ucsd.edu/thredds/dodsC/cdip/realtime/' + stn + 'p1_rt.nc'\n",
        "\n",
        "# open the NetCDF dataset\n",
        "nc = netCDF4.Dataset(address1)\n",
        "\n",
        "# get the time variable\n",
        "time_var = nc.variables['waveTime']\n",
        "\n",
        "# find the indices for the time range\n",
        "start_index = netCDF4.date2index(start_time, time_var, select='nearest')\n",
        "end_index = netCDF4.date2index(end_time, time_var, select='nearest')\n",
        "\n",
        "# get the necessary variables\n",
        "time_var = nc.variables['waveTime'][:]\n",
        "hs_var = nc.variables['waveHs'][:] #Significant Wave Height in Meters\n",
        "hsf_var = hs_var * 3.28084\n",
        "t_var = nc.variables['waveTp'][:] #Peak wave period\n",
        "fq_var = nc.variables['waveFrequency'][:] #Wave frequency\n",
        "wave_energy = nc.variables['waveEnergyDensity'][:] #Wave energy density\n",
        "wave_energy_mean = np.mean(wave_energy, axis=1)\n",
        "wave_energy_last = wave_energy[:, -1]\n",
        "waveDp_var = nc.variables['waveDp'][:] #Peak wave direction\n",
        "waveDm_var = nc.variables['waveMeanDirection'][:] #Mean wave direction #not used - unable to figure out smoothed direction\n",
        "waveDm_last = waveDm_var[:, -1]\n",
        "waveDm_mean = np.mean(waveDm_var, axis=1)\n",
        "#waveDm_var = waveDm_var.T #Mean wave direction rotated 90 deg #not used - unable to figure out smoothed direction\n",
        "waveTa_var = nc.variables['waveTa'][:] #Average wave period\n",
        "sst_var = nc.variables['sstSeaSurfaceTemperature'][:] #Sea surface temperature\n",
        "sstf_var = sst_var * 9/5 + 32 #Convert sea surface temperature to farenheit\n",
        "band_var = nc.variables['waveBandwidth'][:] # Wave bandwidth\n",
        "len_WaveFreq = len(nc.variables['waveFrequency'])\n",
        "\n",
        "data = {\n",
        "    'Time': time_var,\n",
        "    'Average Wave Period': waveTa_var,\n",
        "    'Mean Wave Direction Last': waveDm_last,\n",
        "    'Peak Wave Period': t_var,\n",
        "    'Significant Wave Height (ft)': hsf_var,\n",
        "    'Wave Energy Density Last': wave_energy_last,\n",
        "    'Peak Wave Direction': waveDp_var\n",
        "}\n",
        "\n",
        "buoy_data = pd.DataFrame(data)\n",
        "\n",
        "buoy_data_subset = buoy_data[start_index:end_index+1]\n",
        "\n",
        "for index, row in buoy_data_subset.iterrows():\n",
        "    significant_wave_height_feet_now = row['Significant Wave Height (ft)']\n",
        "    significant_wave_height_feet_now_str = f\"{round(significant_wave_height_feet_now, 2)}\"\n",
        "\n",
        "    peak_wave_period_seconds_now = row['Peak Wave Period']\n",
        "    peak_wave_period_seconds_now_str = f\"{round(peak_wave_period_seconds_now, 1)}\"\n",
        "\n",
        "    peak_wave_direction_deg_true_now = row['Peak Wave Direction']\n",
        "    peak_wave_direction_deg_true_now_str = f\"{round(peak_wave_direction_deg_true_now, 1)}\"\n",
        "\n",
        "    average_wave_period_seconds_now = row['Average Wave Period']\n",
        "\n",
        "    wave_time_utc_now = row['Time']\n",
        "    #wave_time_local_now = wave_time_utc_now - timedelta(hours=utc_offset)\n",
        "    wave_time_local_now_str = end_time.strftime(\"%Y-%m-%d %H:%M:%S\")\n",
        "\n"
      ],
      "metadata": {
        "colab": {
          "base_uri": "https://localhost:8080/"
        },
        "id": "sd8Kk95lr7I9",
        "outputId": "7997d9f7-621f-4f03-db9a-e601b48433f2"
      },
      "execution_count": 55,
      "outputs": [
        {
          "name": "stdout",
          "output_type": "stream",
          "text": [
            "Enter the station ID: Oceanside = 045, Red Beach = 264 045\n"
          ]
        }
      ]
    }
  ]
}